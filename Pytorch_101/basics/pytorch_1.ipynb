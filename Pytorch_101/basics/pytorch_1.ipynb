{
 "cells": [
  {
   "attachments": {},
   "cell_type": "markdown",
   "metadata": {},
   "source": [
    "### Pytorch Fundamentals"
   ]
  },
  {
   "cell_type": "code",
   "execution_count": 1,
   "metadata": {},
   "outputs": [
    {
     "name": "stdout",
     "output_type": "stream",
     "text": [
      "Following Zero to Mastery Pytorch for Deep Learning & Machine Learning COurse\n"
     ]
    }
   ],
   "source": [
    "print(\"Following Zero to Mastery Pytorch for Deep Learning & Machine Learning COurse\")"
   ]
  },
  {
   "cell_type": "code",
   "execution_count": 2,
   "metadata": {},
   "outputs": [],
   "source": [
    "import torch\n",
    "import pandas as pd\n",
    "import numpy as np\n",
    "import matplotlib.pyplot as plt"
   ]
  },
  {
   "cell_type": "code",
   "execution_count": 3,
   "metadata": {},
   "outputs": [
    {
     "data": {
      "text/plain": [
       "'1.13.1+cu117'"
      ]
     },
     "execution_count": 3,
     "metadata": {},
     "output_type": "execute_result"
    }
   ],
   "source": [
    "torch.__version__"
   ]
  },
  {
   "attachments": {},
   "cell_type": "markdown",
   "metadata": {},
   "source": [
    "#### Intro to Pytorch Tensors"
   ]
  },
  {
   "cell_type": "code",
   "execution_count": 4,
   "metadata": {},
   "outputs": [
    {
     "data": {
      "text/plain": [
       "tensor([0., 0., 0., 0., 0., 0., 0.])"
      ]
     },
     "execution_count": 4,
     "metadata": {},
     "output_type": "execute_result"
    }
   ],
   "source": [
    "# Creating Tensors\n",
    "\n",
    "# 1.Scalar\n",
    "scalar = torch.Tensor(7)\n",
    "scalar"
   ]
  },
  {
   "cell_type": "code",
   "execution_count": 5,
   "metadata": {},
   "outputs": [
    {
     "data": {
      "text/plain": [
       "1"
      ]
     },
     "execution_count": 5,
     "metadata": {},
     "output_type": "execute_result"
    }
   ],
   "source": [
    "scalar.ndim"
   ]
  },
  {
   "cell_type": "code",
   "execution_count": 6,
   "metadata": {},
   "outputs": [
    {
     "data": {
      "text/plain": [
       "(tensor([7., 7.]), 1, torch.Size([2]))"
      ]
     },
     "execution_count": 6,
     "metadata": {},
     "output_type": "execute_result"
    }
   ],
   "source": [
    "# 2.Vector \n",
    "vector = torch.Tensor([7,7])\n",
    "vector,vector.ndim,vector.shape"
   ]
  },
  {
   "cell_type": "code",
   "execution_count": 7,
   "metadata": {},
   "outputs": [
    {
     "data": {
      "text/plain": [
       "(tensor([[ 7.,  8.],\n",
       "         [ 9., 10.]]),\n",
       " 2,\n",
       " torch.Size([2, 2]))"
      ]
     },
     "execution_count": 7,
     "metadata": {},
     "output_type": "execute_result"
    }
   ],
   "source": [
    "# 3.Matrix\n",
    "matrix = torch.Tensor([[7,8],[9,10]])\n",
    "matrix,matrix.ndim,matrix.shape"
   ]
  },
  {
   "cell_type": "code",
   "execution_count": 8,
   "metadata": {},
   "outputs": [
    {
     "data": {
      "text/plain": [
       "(tensor(7.), 7.0)"
      ]
     },
     "execution_count": 8,
     "metadata": {},
     "output_type": "execute_result"
    }
   ],
   "source": [
    "matrix[0][0], matrix[0][0].item()"
   ]
  },
  {
   "cell_type": "code",
   "execution_count": 9,
   "metadata": {},
   "outputs": [
    {
     "data": {
      "text/plain": [
       "(tensor([[[1., 2., 3.],\n",
       "          [4., 5., 6.],\n",
       "          [7., 8., 9.]]]),\n",
       " 3,\n",
       " torch.Size([1, 3, 3]))"
      ]
     },
     "execution_count": 9,
     "metadata": {},
     "output_type": "execute_result"
    }
   ],
   "source": [
    "# 4. Tensor\n",
    "tensor = torch.Tensor([[\n",
    "    [1,2,3],\n",
    "    [4,5,6],\n",
    "    [7,8,9]]])\n",
    "\n",
    "tensor, tensor.ndim,tensor.shape"
   ]
  },
  {
   "cell_type": "code",
   "execution_count": 10,
   "metadata": {},
   "outputs": [
    {
     "data": {
      "text/plain": [
       "3.0"
      ]
     },
     "execution_count": 10,
     "metadata": {},
     "output_type": "execute_result"
    }
   ],
   "source": [
    "tensor[0][0][-1].item()"
   ]
  },
  {
   "attachments": {},
   "cell_type": "markdown",
   "metadata": {},
   "source": [
    "#### Creating Tensors Randomly"
   ]
  },
  {
   "cell_type": "code",
   "execution_count": 11,
   "metadata": {},
   "outputs": [
    {
     "data": {
      "text/plain": [
       "(tensor([[[0.9659, 0.7023],\n",
       "          [0.3343, 0.4686]],\n",
       " \n",
       "         [[0.3842, 0.8559],\n",
       "          [0.2329, 0.3630]]]),\n",
       " 3,\n",
       " torch.Size([2, 2, 2]))"
      ]
     },
     "execution_count": 11,
     "metadata": {},
     "output_type": "execute_result"
    }
   ],
   "source": [
    "randTensor_1 = torch.rand(2,2,2)\n",
    "randTensor_1, randTensor_1.ndim, randTensor_1.shape"
   ]
  },
  {
   "cell_type": "code",
   "execution_count": 12,
   "metadata": {},
   "outputs": [
    {
     "data": {
      "text/plain": [
       "(tensor([[[0.6856, 0.7738, 0.7939],\n",
       "          [0.4551, 0.6486, 0.6013],\n",
       "          [0.0053, 0.4603, 0.7936],\n",
       "          ...,\n",
       "          [0.6703, 0.8588, 0.5969],\n",
       "          [0.9959, 0.7674, 0.7482],\n",
       "          [0.4528, 0.0579, 0.6523]],\n",
       " \n",
       "         [[0.3433, 0.7058, 0.9825],\n",
       "          [0.9071, 0.2553, 0.4825],\n",
       "          [0.5100, 0.5633, 0.1147],\n",
       "          ...,\n",
       "          [0.3939, 0.7916, 0.7149],\n",
       "          [0.5831, 0.2210, 0.8284],\n",
       "          [0.8355, 0.5821, 0.9001]],\n",
       " \n",
       "         [[0.8680, 0.5363, 0.3316],\n",
       "          [0.0027, 0.5165, 0.9394],\n",
       "          [0.5837, 0.9633, 0.7444],\n",
       "          ...,\n",
       "          [0.1747, 0.7111, 0.4325],\n",
       "          [0.4461, 0.5929, 0.7495],\n",
       "          [0.9587, 0.5924, 0.7783]],\n",
       " \n",
       "         ...,\n",
       " \n",
       "         [[0.2321, 0.1416, 0.4760],\n",
       "          [0.3899, 0.8320, 0.8426],\n",
       "          [0.3715, 0.3446, 0.3413],\n",
       "          ...,\n",
       "          [0.0847, 0.3382, 0.1989],\n",
       "          [0.8616, 0.9673, 0.4211],\n",
       "          [0.3483, 0.3146, 0.7355]],\n",
       " \n",
       "         [[0.3816, 0.0970, 0.2011],\n",
       "          [0.2880, 0.0029, 0.9950],\n",
       "          [0.5922, 0.3828, 0.8088],\n",
       "          ...,\n",
       "          [0.7495, 0.0084, 0.2271],\n",
       "          [0.5679, 0.1303, 0.0939],\n",
       "          [0.5164, 0.4128, 0.5930]],\n",
       " \n",
       "         [[0.3643, 0.5527, 0.9317],\n",
       "          [0.8487, 0.1250, 0.0040],\n",
       "          [0.1689, 0.6651, 0.4814],\n",
       "          ...,\n",
       "          [0.0845, 0.7129, 0.1853],\n",
       "          [0.0703, 0.9083, 0.4440],\n",
       "          [0.5696, 0.1799, 0.5160]]]),\n",
       " 3)"
      ]
     },
     "execution_count": 12,
     "metadata": {},
     "output_type": "execute_result"
    }
   ],
   "source": [
    "# Create a Random Tensor with simirlar shape as an image\n",
    "random_image_size_tensor = torch.rand(size=(224,224,3))  # Height, width, color channel\n",
    "random_image_size_tensor, random_image_size_tensor.ndim"
   ]
  },
  {
   "attachments": {},
   "cell_type": "markdown",
   "metadata": {},
   "source": [
    "#### Zeros and Ones Tensor"
   ]
  },
  {
   "cell_type": "code",
   "execution_count": 13,
   "metadata": {},
   "outputs": [
    {
     "data": {
      "text/plain": [
       "tensor([[0., 0., 0., 0.],\n",
       "        [0., 0., 0., 0.],\n",
       "        [0., 0., 0., 0.]])"
      ]
     },
     "execution_count": 13,
     "metadata": {},
     "output_type": "execute_result"
    }
   ],
   "source": [
    "zero = torch.zeros(size=(3,4))\n",
    "zero"
   ]
  },
  {
   "cell_type": "code",
   "execution_count": 14,
   "metadata": {},
   "outputs": [
    {
     "data": {
      "text/plain": [
       "tensor([[1., 1., 1.],\n",
       "        [1., 1., 1.],\n",
       "        [1., 1., 1.]])"
      ]
     },
     "execution_count": 14,
     "metadata": {},
     "output_type": "execute_result"
    }
   ],
   "source": [
    "ones = torch.ones(3,3)\n",
    "ones"
   ]
  },
  {
   "cell_type": "code",
   "execution_count": 15,
   "metadata": {},
   "outputs": [
    {
     "data": {
      "text/plain": [
       "torch.float32"
      ]
     },
     "execution_count": 15,
     "metadata": {},
     "output_type": "execute_result"
    }
   ],
   "source": [
    "ones.dtype"
   ]
  },
  {
   "attachments": {},
   "cell_type": "markdown",
   "metadata": {},
   "source": [
    "#### Creating a Range of Tensors and Tensors-like"
   ]
  },
  {
   "cell_type": "code",
   "execution_count": 24,
   "metadata": {},
   "outputs": [
    {
     "data": {
      "text/plain": [
       "tensor([0, 2, 4, 6, 8])"
      ]
     },
     "execution_count": 24,
     "metadata": {},
     "output_type": "execute_result"
    }
   ],
   "source": [
    "# Pretty same as Python's inbuilt Range Function\n",
    "one_to_ten = torch.arange(0,10,2)\n",
    "one_to_ten"
   ]
  },
  {
   "cell_type": "code",
   "execution_count": 25,
   "metadata": {},
   "outputs": [
    {
     "data": {
      "text/plain": [
       "tensor([0, 0, 0, 0, 0])"
      ]
     },
     "execution_count": 25,
     "metadata": {},
     "output_type": "execute_result"
    }
   ],
   "source": [
    "# Creating Tensors Like\n",
    "ten_zeros = torch.zeros_like(input=one_to_ten)\n",
    "ten_zeros"
   ]
  }
 ],
 "metadata": {
  "kernelspec": {
   "display_name": "dlEnv",
   "language": "python",
   "name": "python3"
  },
  "language_info": {
   "codemirror_mode": {
    "name": "ipython",
    "version": 3
   },
   "file_extension": ".py",
   "mimetype": "text/x-python",
   "name": "python",
   "nbconvert_exporter": "python",
   "pygments_lexer": "ipython3",
   "version": "3.9.10"
  },
  "orig_nbformat": 4,
  "vscode": {
   "interpreter": {
    "hash": "a173155719f607268c22366331a6ee562a491758de99da6b186ae48fcfaefae3"
   }
  }
 },
 "nbformat": 4,
 "nbformat_minor": 2
}
