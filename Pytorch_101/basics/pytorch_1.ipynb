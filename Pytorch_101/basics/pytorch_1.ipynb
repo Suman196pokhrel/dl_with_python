{
 "cells": [
  {
   "attachments": {},
   "cell_type": "markdown",
   "metadata": {},
   "source": [
    "### Pytorch Fundamentals"
   ]
  },
  {
   "cell_type": "code",
   "execution_count": 3,
   "metadata": {},
   "outputs": [
    {
     "name": "stdout",
     "output_type": "stream",
     "text": [
      "Following Zero to Mastery Pytorch for Deep Learning & Machine Learning COurse\n"
     ]
    }
   ],
   "source": [
    "print(\"Following Zero to Mastery Pytorch for Deep Learning & Machine Learning COurse\")"
   ]
  },
  {
   "cell_type": "code",
   "execution_count": 9,
   "metadata": {},
   "outputs": [],
   "source": [
    "import torch\n",
    "import pandas as pd\n",
    "import numpy as np\n",
    "import matplotlib.pyplot as plt"
   ]
  },
  {
   "cell_type": "code",
   "execution_count": 8,
   "metadata": {},
   "outputs": [
    {
     "data": {
      "text/plain": [
       "'1.13.1+cu117'"
      ]
     },
     "execution_count": 8,
     "metadata": {},
     "output_type": "execute_result"
    }
   ],
   "source": [
    "torch.__version__"
   ]
  },
  {
   "attachments": {},
   "cell_type": "markdown",
   "metadata": {},
   "source": [
    "#### Intro to Pytorch Tensors"
   ]
  },
  {
   "cell_type": "code",
   "execution_count": 10,
   "metadata": {},
   "outputs": [
    {
     "data": {
      "text/plain": [
       "tensor([0., 0., 0., 0., 0., 0., 0.])"
      ]
     },
     "execution_count": 10,
     "metadata": {},
     "output_type": "execute_result"
    }
   ],
   "source": [
    "# Creating Tensors\n",
    "\n",
    "# 1.Scalar\n",
    "scalar = torch.Tensor(7)\n",
    "scalar"
   ]
  },
  {
   "cell_type": "code",
   "execution_count": 11,
   "metadata": {},
   "outputs": [
    {
     "data": {
      "text/plain": [
       "1"
      ]
     },
     "execution_count": 11,
     "metadata": {},
     "output_type": "execute_result"
    }
   ],
   "source": [
    "scalar.ndim"
   ]
  },
  {
   "cell_type": "code",
   "execution_count": 17,
   "metadata": {},
   "outputs": [
    {
     "data": {
      "text/plain": [
       "(tensor([7., 7.]), 1, torch.Size([2]))"
      ]
     },
     "execution_count": 17,
     "metadata": {},
     "output_type": "execute_result"
    }
   ],
   "source": [
    "# 2.Vector \n",
    "vector = torch.Tensor([7,7])\n",
    "vector,vector.ndim,vector.shape"
   ]
  },
  {
   "cell_type": "code",
   "execution_count": 21,
   "metadata": {},
   "outputs": [
    {
     "data": {
      "text/plain": [
       "(tensor([[ 7.,  8.],\n",
       "         [ 9., 10.]]),\n",
       " 2,\n",
       " torch.Size([2, 2]))"
      ]
     },
     "execution_count": 21,
     "metadata": {},
     "output_type": "execute_result"
    }
   ],
   "source": [
    "# 3.Matrix\n",
    "matrix = torch.Tensor([[7,8],[9,10]])\n",
    "matrix,matrix.ndim,matrix.shape"
   ]
  },
  {
   "cell_type": "code",
   "execution_count": 36,
   "metadata": {},
   "outputs": [
    {
     "data": {
      "text/plain": [
       "(tensor(7.), 7.0)"
      ]
     },
     "execution_count": 36,
     "metadata": {},
     "output_type": "execute_result"
    }
   ],
   "source": [
    "matrix[0][0], matrix[0][0].item()"
   ]
  },
  {
   "cell_type": "code",
   "execution_count": 29,
   "metadata": {},
   "outputs": [
    {
     "data": {
      "text/plain": [
       "(tensor([[[1., 2., 3.],\n",
       "          [4., 5., 6.],\n",
       "          [7., 8., 9.]]]),\n",
       " 3,\n",
       " torch.Size([1, 3, 3]))"
      ]
     },
     "execution_count": 29,
     "metadata": {},
     "output_type": "execute_result"
    }
   ],
   "source": [
    "# 4. Tensor\n",
    "tensor = torch.Tensor([[\n",
    "    [1,2,3],\n",
    "    [4,5,6],\n",
    "    [7,8,9]]])\n",
    "\n",
    "tensor, tensor.ndim,tensor.shape"
   ]
  },
  {
   "cell_type": "code",
   "execution_count": 33,
   "metadata": {},
   "outputs": [
    {
     "data": {
      "text/plain": [
       "3.0"
      ]
     },
     "execution_count": 33,
     "metadata": {},
     "output_type": "execute_result"
    }
   ],
   "source": [
    "tensor[0][0][-1].item()"
   ]
  },
  {
   "attachments": {},
   "cell_type": "markdown",
   "metadata": {},
   "source": [
    "#### Creating Tensors Randomly"
   ]
  },
  {
   "cell_type": "code",
   "execution_count": 52,
   "metadata": {},
   "outputs": [
    {
     "data": {
      "text/plain": [
       "(tensor([[[0.1503, 0.8004],\n",
       "          [0.9412, 0.0265]],\n",
       " \n",
       "         [[0.1975, 0.3231],\n",
       "          [0.6090, 0.9328]]]),\n",
       " 3,\n",
       " torch.Size([2, 2, 2]))"
      ]
     },
     "execution_count": 52,
     "metadata": {},
     "output_type": "execute_result"
    }
   ],
   "source": [
    "randTensor_1 = torch.rand(2,2,2)\n",
    "randTensor_1, randTensor_1.ndim, randTensor_1.shape"
   ]
  },
  {
   "cell_type": "code",
   "execution_count": 54,
   "metadata": {},
   "outputs": [
    {
     "data": {
      "text/plain": [
       "(tensor([[[0.6451, 0.2416, 0.7717],\n",
       "          [0.1028, 0.1578, 0.9808],\n",
       "          [0.7239, 0.9977, 0.7499],\n",
       "          ...,\n",
       "          [0.4168, 0.4781, 0.8864],\n",
       "          [0.4882, 0.6571, 0.7146],\n",
       "          [0.4828, 0.3529, 0.7824]],\n",
       " \n",
       "         [[0.9893, 0.5282, 0.1599],\n",
       "          [0.3164, 0.6266, 0.3941],\n",
       "          [0.0571, 0.3135, 0.3398],\n",
       "          ...,\n",
       "          [0.5177, 0.6071, 0.3924],\n",
       "          [0.6417, 0.9074, 0.0647],\n",
       "          [0.4793, 0.3377, 0.9924]],\n",
       " \n",
       "         [[0.1761, 0.6666, 0.4977],\n",
       "          [0.6196, 0.5922, 0.2774],\n",
       "          [0.4856, 0.5860, 0.4050],\n",
       "          ...,\n",
       "          [0.2968, 0.5180, 0.1994],\n",
       "          [0.8550, 0.1426, 0.6274],\n",
       "          [0.4404, 0.1246, 0.6056]],\n",
       " \n",
       "         ...,\n",
       " \n",
       "         [[0.7262, 0.6978, 0.6472],\n",
       "          [0.7884, 0.1208, 0.9778],\n",
       "          [0.3847, 0.1095, 0.2124],\n",
       "          ...,\n",
       "          [0.7796, 0.7640, 0.7584],\n",
       "          [0.0957, 0.6808, 0.4029],\n",
       "          [0.1703, 0.5082, 0.6363]],\n",
       " \n",
       "         [[0.5720, 0.6497, 0.6354],\n",
       "          [0.8912, 0.2763, 0.6654],\n",
       "          [0.5912, 0.4404, 0.5228],\n",
       "          ...,\n",
       "          [0.8199, 0.2626, 0.2975],\n",
       "          [0.7948, 0.5753, 0.3802],\n",
       "          [0.9839, 0.6951, 0.2318]],\n",
       " \n",
       "         [[0.4090, 0.2556, 0.4345],\n",
       "          [0.5695, 0.6882, 0.8521],\n",
       "          [0.5408, 0.7863, 0.1413],\n",
       "          ...,\n",
       "          [0.0531, 0.6554, 0.3080],\n",
       "          [0.3526, 0.4569, 0.2807],\n",
       "          [0.5300, 0.6275, 0.4064]]]),\n",
       " 3)"
      ]
     },
     "execution_count": 54,
     "metadata": {},
     "output_type": "execute_result"
    }
   ],
   "source": [
    "# Create a Random Tensor with simirlar shape as an image\n",
    "random_image_size_tensor = torch.rand(size=(224,224,3))  # Height, width, color channel\n",
    "random_image_size_tensor, random_image_size_tensor.ndim"
   ]
  },
  {
   "attachments": {},
   "cell_type": "markdown",
   "metadata": {},
   "source": [
    "#### Zeros and Ones Tensor"
   ]
  },
  {
   "cell_type": "code",
   "execution_count": 66,
   "metadata": {},
   "outputs": [
    {
     "data": {
      "text/plain": [
       "tensor([[0., 0., 0., 0.],\n",
       "        [0., 0., 0., 0.],\n",
       "        [0., 0., 0., 0.]])"
      ]
     },
     "execution_count": 66,
     "metadata": {},
     "output_type": "execute_result"
    }
   ],
   "source": [
    "zero = torch.zeros(size=(3,4))\n",
    "zero"
   ]
  },
  {
   "cell_type": "code",
   "execution_count": 67,
   "metadata": {},
   "outputs": [
    {
     "data": {
      "text/plain": [
       "tensor([[1., 1., 1.],\n",
       "        [1., 1., 1.],\n",
       "        [1., 1., 1.]])"
      ]
     },
     "execution_count": 67,
     "metadata": {},
     "output_type": "execute_result"
    }
   ],
   "source": [
    "ones = torch.ones(3,3)\n",
    "ones"
   ]
  },
  {
   "cell_type": "code",
   "execution_count": 68,
   "metadata": {},
   "outputs": [
    {
     "data": {
      "text/plain": [
       "torch.float32"
      ]
     },
     "execution_count": 68,
     "metadata": {},
     "output_type": "execute_result"
    }
   ],
   "source": [
    "ones.dtype"
   ]
  }
 ],
 "metadata": {
  "kernelspec": {
   "display_name": "dlEnv",
   "language": "python",
   "name": "python3"
  },
  "language_info": {
   "codemirror_mode": {
    "name": "ipython",
    "version": 3
   },
   "file_extension": ".py",
   "mimetype": "text/x-python",
   "name": "python",
   "nbconvert_exporter": "python",
   "pygments_lexer": "ipython3",
   "version": "3.9.10"
  },
  "orig_nbformat": 4,
  "vscode": {
   "interpreter": {
    "hash": "a173155719f607268c22366331a6ee562a491758de99da6b186ae48fcfaefae3"
   }
  }
 },
 "nbformat": 4,
 "nbformat_minor": 2
}
