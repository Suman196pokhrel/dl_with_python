{
 "cells": [
  {
   "attachments": {},
   "cell_type": "markdown",
   "metadata": {},
   "source": [
    "### Manipulating Tensors (Tensor Oprations)\n",
    "\n",
    "Tensor Operations include:\n",
    "* Addition\n",
    "* Subtraction\n",
    "* Multiplication\n",
    "* Division\n",
    "* Matrix Multiplication"
   ]
  },
  {
   "cell_type": "code",
   "execution_count": 1,
   "metadata": {},
   "outputs": [],
   "source": [
    "import torch\n",
    "import numpy as np"
   ]
  },
  {
   "cell_type": "code",
   "execution_count": 22,
   "metadata": {},
   "outputs": [
    {
     "data": {
      "text/plain": [
       "(tensor([11., 12., 13.]),\n",
       " tensor([10., 20., 30.]),\n",
       " tensor([0.5000, 1.0000, 1.5000]),\n",
       " tensor([1., 2., 3.]))"
      ]
     },
     "execution_count": 22,
     "metadata": {},
     "output_type": "execute_result"
    }
   ],
   "source": [
    "# Bsic Operations \n",
    "tensor = torch.Tensor([1,2,3])\n",
    "tensor + 10 , tensor * 10 , tensor / 2 , tensor"
   ]
  },
  {
   "cell_type": "code",
   "execution_count": 25,
   "metadata": {},
   "outputs": [
    {
     "data": {
      "text/plain": [
       "tensor([10., 20., 30.])"
      ]
     },
     "execution_count": 25,
     "metadata": {},
     "output_type": "execute_result"
    }
   ],
   "source": [
    "# BUilIn functions\n",
    "torch.mul(tensor, 10)"
   ]
  },
  {
   "cell_type": "code",
   "execution_count": 23,
   "metadata": {},
   "outputs": [
    {
     "data": {
      "text/plain": [
       "tensor([[6., 6.],\n",
       "        [6., 6.]])"
      ]
     },
     "execution_count": 23,
     "metadata": {},
     "output_type": "execute_result"
    }
   ],
   "source": [
    "tensor1 = torch.Tensor([[2,2], [2,2]])\n",
    "tensor2 = torch.Tensor([[3,3],[3, 3]])\n",
    "tensor3 = tensor1 * tensor2\n",
    "tensor3"
   ]
  },
  {
   "cell_type": "code",
   "execution_count": 28,
   "metadata": {},
   "outputs": [
    {
     "data": {
      "text/plain": [
       "tensor([[8., 8.],\n",
       "        [8., 8.],\n",
       "        [8., 8.]])"
      ]
     },
     "execution_count": 28,
     "metadata": {},
     "output_type": "execute_result"
    }
   ],
   "source": [
    "# for diff DImension matrixes\n",
    "tensor1 = torch.Tensor([[2, 2], [2, 2], [2,2]])  # 3x2\n",
    "tensor2 = torch.Tensor([[2,2],[2,2]])   # 2x2\n",
    "torch.matmul(tensor1, tensor2)\n"
   ]
  },
  {
   "cell_type": "code",
   "execution_count": 35,
   "metadata": {},
   "outputs": [
    {
     "data": {
      "text/plain": [
       "tensor([[0.4007, 1.1408, 0.6575, 0.4984, 1.2875, 0.7099, 0.7167, 0.4747, 1.2347],\n",
       "        [0.6510, 1.2981, 0.4781, 0.5235, 1.1963, 0.9310, 0.6245, 0.3745, 1.1134],\n",
       "        [0.6887, 1.8264, 0.6803, 0.8287, 1.7085, 1.1026, 1.0579, 1.0600, 1.5551],\n",
       "        [0.7429, 0.7621, 1.0548, 0.4234, 1.2635, 0.3898, 1.0560, 1.4758, 1.1597]])"
      ]
     },
     "execution_count": 35,
     "metadata": {},
     "output_type": "execute_result"
    }
   ],
   "source": [
    "torch.matmul(torch.rand(4,4), torch.rand(4,9))"
   ]
  },
  {
   "cell_type": "code",
   "execution_count": 38,
   "metadata": {},
   "outputs": [
    {
     "data": {
      "text/plain": [
       "tensor([[0.9218, 0.4981, 0.4076, 0.3301],\n",
       "        [1.5248, 1.0664, 0.5556, 0.8626],\n",
       "        [1.4178, 1.5928, 0.5692, 0.8794]])"
      ]
     },
     "execution_count": 38,
     "metadata": {},
     "output_type": "execute_result"
    }
   ],
   "source": [
    "# Transposing 4x3 to 3x4 \n",
    "torch.matmul(torch.rand(3,3), torch.rand(4,3).T)"
   ]
  }
 ],
 "metadata": {
  "kernelspec": {
   "display_name": "dlEnv",
   "language": "python",
   "name": "python3"
  },
  "language_info": {
   "codemirror_mode": {
    "name": "ipython",
    "version": 3
   },
   "file_extension": ".py",
   "mimetype": "text/x-python",
   "name": "python",
   "nbconvert_exporter": "python",
   "pygments_lexer": "ipython3",
   "version": "3.9.10 (tags/v3.9.10:f2f3f53, Jan 17 2022, 15:14:21) [MSC v.1929 64 bit (AMD64)]"
  },
  "orig_nbformat": 4,
  "vscode": {
   "interpreter": {
    "hash": "a173155719f607268c22366331a6ee562a491758de99da6b186ae48fcfaefae3"
   }
  }
 },
 "nbformat": 4,
 "nbformat_minor": 2
}
