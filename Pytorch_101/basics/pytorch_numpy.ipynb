{
 "cells": [
  {
   "cell_type": "code",
   "execution_count": 23,
   "metadata": {},
   "outputs": [],
   "source": [
    "import torch as th\n",
    "import numpy as np\n",
    "\n",
    "RANDOM_SEED = 40"
   ]
  },
  {
   "attachments": {},
   "cell_type": "markdown",
   "metadata": {},
   "source": [
    "### Pytorch Tensors & Numpy \n",
    "* Pytorch in many was internally utilizes numpy and because of this pytorch tensors and numpy can interact smoothly"
   ]
  },
  {
   "cell_type": "code",
   "execution_count": 16,
   "metadata": {},
   "outputs": [
    {
     "data": {
      "text/plain": [
       "(array([1., 2., 3., 4., 5., 6., 7.]), tensor([1., 2., 3., 4., 5., 6., 7.]))"
      ]
     },
     "execution_count": 16,
     "metadata": {},
     "output_type": "execute_result"
    }
   ],
   "source": [
    "# Note : when converting from numpy array to Pytorch Tensor , pytorh converts to dtype of float64\n",
    "arrary = np.arange(1.0, 8.0)\n",
    "tensor = th.from_numpy(arrary).type(th.float32)\n",
    "arrary, tensor"
   ]
  },
  {
   "cell_type": "code",
   "execution_count": 17,
   "metadata": {},
   "outputs": [
    {
     "data": {
      "text/plain": [
       "(array([11., 12., 13., 14., 15., 16., 17.]),\n",
       " tensor([1., 2., 3., 4., 5., 6., 7.]))"
      ]
     },
     "execution_count": 17,
     "metadata": {},
     "output_type": "execute_result"
    }
   ],
   "source": [
    "# Change in array doesnt change the tensor itfelt , they have different memory spaces\n",
    "arrary = arrary+10\n",
    "arrary, tensor"
   ]
  },
  {
   "cell_type": "code",
   "execution_count": 14,
   "metadata": {},
   "outputs": [
    {
     "data": {
      "text/plain": [
       "(tensor([1., 1., 1., 1., 1., 1., 1.]),\n",
       " array([31., 22., 23., 24., 25., 26., 27.]))"
      ]
     },
     "execution_count": 14,
     "metadata": {},
     "output_type": "execute_result"
    }
   ],
   "source": [
    "# Tensor to Numpy\n",
    "tensor = th.ones(7)\n",
    "array = tensor.numpy()\n",
    "tensor, arrary"
   ]
  },
  {
   "cell_type": "code",
   "execution_count": 27,
   "metadata": {},
   "outputs": [
    {
     "name": "stdout",
     "output_type": "stream",
     "text": [
      "tensor([[0.3679, 0.8661, 0.1737],\n",
      "        [0.7157, 0.8649, 0.4878],\n",
      "        [0.5501, 0.1318, 0.2897]])\n",
      "tensor([[0.3679, 0.8661, 0.1737],\n",
      "        [0.7157, 0.8649, 0.4878],\n",
      "        [0.5501, 0.1318, 0.2897]])\n"
     ]
    }
   ],
   "source": [
    "th.manual_seed(RANDOM_SEED)\n",
    "print(th.rand(3,3)) \n",
    "th.manual_seed(RANDOM_SEED)\n",
    "print(th.rand(3,3))"
   ]
  }
 ],
 "metadata": {
  "kernelspec": {
   "display_name": "dlEnv",
   "language": "python",
   "name": "python3"
  },
  "language_info": {
   "codemirror_mode": {
    "name": "ipython",
    "version": 3
   },
   "file_extension": ".py",
   "mimetype": "text/x-python",
   "name": "python",
   "nbconvert_exporter": "python",
   "pygments_lexer": "ipython3",
   "version": "3.9.10"
  },
  "orig_nbformat": 4,
  "vscode": {
   "interpreter": {
    "hash": "a173155719f607268c22366331a6ee562a491758de99da6b186ae48fcfaefae3"
   }
  }
 },
 "nbformat": 4,
 "nbformat_minor": 2
}
