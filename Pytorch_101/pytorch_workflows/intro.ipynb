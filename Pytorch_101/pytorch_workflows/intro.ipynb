{
 "cells": [
  {
   "attachments": {},
   "cell_type": "markdown",
   "metadata": {},
   "source": [
    "### Pytorch Workflow\n",
    "#### What were covering :\n",
    "1. Data (Prepare and Load)\n",
    "2. Build Model\n",
    "3. Fitting the model to data (Training)\n",
    "4. Making Predictions and Evaluating a Model (inference)\n",
    "5. Saving and Loading model\n",
    "6. Putting it all together"
   ]
  }
 ],
 "metadata": {
  "kernelspec": {
   "display_name": "dlEnv",
   "language": "python",
   "name": "python3"
  },
  "language_info": {
   "codemirror_mode": {
    "name": "ipython",
    "version": 3
   },
   "file_extension": ".py",
   "mimetype": "text/x-python",
   "name": "python",
   "nbconvert_exporter": "python",
   "pygments_lexer": "ipython3",
   "version": "3.9.10 (tags/v3.9.10:f2f3f53, Jan 17 2022, 15:14:21) [MSC v.1929 64 bit (AMD64)]"
  },
  "orig_nbformat": 4,
  "vscode": {
   "interpreter": {
    "hash": "a173155719f607268c22366331a6ee562a491758de99da6b186ae48fcfaefae3"
   }
  }
 },
 "nbformat": 4,
 "nbformat_minor": 2
}
