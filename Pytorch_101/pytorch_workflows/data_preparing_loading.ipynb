{
 "cells": [
  {
   "cell_type": "code",
   "execution_count": 1,
   "metadata": {},
   "outputs": [
    {
     "data": {
      "text/plain": [
       "'1.13.1+cu117'"
      ]
     },
     "execution_count": 1,
     "metadata": {},
     "output_type": "execute_result"
    }
   ],
   "source": [
    "import torch as th\n",
    "from torch import nn\n",
    "th.__version__"
   ]
  },
  {
   "attachments": {},
   "cell_type": "markdown",
   "metadata": {},
   "source": [
    "### Data preparing and Loading\n",
    "\n",
    "Data can be almost anything  in machine learning\n",
    "* Excel spreadsheet\n",
    "* Images of any kind\n",
    "* Videos\n",
    "* Audio\n",
    "* DNA\n",
    "* Text"
   ]
  },
  {
   "cell_type": "code",
   "execution_count": 2,
   "metadata": {},
   "outputs": [
    {
     "data": {
      "text/plain": [
       "(tensor([0.0000, 0.0200, 0.0400, 0.0600, 0.0800, 0.1000, 0.1200, 0.1400, 0.1600,\n",
       "         0.1800]),\n",
       " tensor([0.3000, 0.3140, 0.3280, 0.3420, 0.3560, 0.3700, 0.3840, 0.3980, 0.4120,\n",
       "         0.4260]))"
      ]
     },
     "execution_count": 2,
     "metadata": {},
     "output_type": "execute_result"
    }
   ],
   "source": [
    "# Create known paramaters\n",
    "weight = 0.7\n",
    "bias = 0.3\n",
    "\n",
    "# Create Data\n",
    "start = 0\n",
    "end = 1\n",
    "step = 0.02\n",
    "X = th.arange(start,end,step)\n",
    "y = weight*X + bias\n",
    "\n",
    "X[:10], y[:10]"
   ]
  },
  {
   "cell_type": "code",
   "execution_count": 3,
   "metadata": {},
   "outputs": [
    {
     "data": {
      "text/plain": [
       "(50, 50)"
      ]
     },
     "execution_count": 3,
     "metadata": {},
     "output_type": "execute_result"
    }
   ],
   "source": [
    "len(X), len(y)"
   ]
  },
  {
   "cell_type": "code",
   "execution_count": 17,
   "metadata": {},
   "outputs": [
    {
     "data": {
      "text/plain": [
       "(40, 40, 10, 10)"
      ]
     },
     "execution_count": 17,
     "metadata": {},
     "output_type": "execute_result"
    }
   ],
   "source": [
    "# Create train/test split\n",
    "train_split = int(0.8 * len(X)) # 80% of data used for training set, 20% for testing \n",
    "X_train, y_train = X[:train_split], y[:train_split]\n",
    "X_test, y_test = X[train_split:], y[train_split:]\n",
    "\n",
    "len(X_train), len(y_train), len(X_test), len(y_test)"
   ]
  },
  {
   "attachments": {},
   "cell_type": "markdown",
   "metadata": {},
   "source": [
    "#### Lets Visualize"
   ]
  },
  {
   "cell_type": "code",
   "execution_count": 13,
   "metadata": {},
   "outputs": [],
   "source": [
    "import matplotlib.pyplot as plt"
   ]
  },
  {
   "cell_type": "code",
   "execution_count": 22,
   "metadata": {},
   "outputs": [],
   "source": [
    "def plot_predictions(train_data=X_train, test_data=X_test, train_labels=y_train, test_labels=y_test, predictions=None):\n",
    "    \"\"\"Plots training data , Test data and co,pares apredictions\"\"\"\n",
    "\n",
    "    plt.figure(figsize=(10, 7))\n",
    "\n",
    "    plt.scatter(train_data, train_labels, c='b', s=8, label=\"Training data\")\n",
    "    plt.scatter(test_data, test_labels, c='g', s=8, label=\"Testing data\")\n",
    "\n",
    "    if predictions is not None:\n",
    "        # plto predictions\n",
    "        plt.scatter(test_data, predictions, c=\"r\", s= 8, label=\"Predictions\")\n",
    "    \n",
    "    plt.legend(prop={\"size\":14})\n"
   ]
  },
  {
   "cell_type": "code",
   "execution_count": 21,
   "metadata": {},
   "outputs": [
    {
     "data": {
      "image/png": "[encoded data removed]",
      "text/plain": [
       "<Figure size 1000x700 with 1 Axes>"
      ]
     },
     "metadata": {},
     "output_type": "display_data"
    }
   ],
   "source": [
    "plot_predictions()"
   ]
  },
  {
   "attachments": {},
   "cell_type": "markdown",
   "metadata": {},
   "source": [
    "### Creating our first Pytorch Model : Linear Regression"
   ]
  },
  {
   "cell_type": "code",
   "execution_count": 23,
   "metadata": {},
   "outputs": [],
   "source": [
    "# Create linear Regression Model Class\n",
    "class LinearRegressionModel(nn.Module):\n",
    "\n",
    "    def __init__(self) -> None:\n",
    "        super().__init__()\n",
    "        self.weights = nn.Parameter(th.randn(1, requires_grad=True, dtype=th.float))\n",
    "        self.bias = nn.Parameter(th.randn(1, requires_grad=True, dtype=th.float))\n",
    "\n",
    "    def forward(self, x: th.Tensor) -> th.Tensor:  # x is input data\n",
    "        return self.weights*x + self.bias\n"
   ]
  },
  {
   "attachments": {},
   "cell_type": "markdown",
   "metadata": {},
   "source": [
    "#### Pytorch Model Builfing Essentials\n",
    "* torch.nn - contains allof the buildings for computational graphs\n",
    "* Parameter - what parameter should our model try and learn, often a Pytorch layer from torch.nn will set this for us \n",
    "* torch.nn.Module - base class for all Neural Network Modules, if you subclass it , overrive the forware\n",
    "* torch.optim - where optimizers in Pytorch live, helps in GD\n",
    "* def forward() - All nn.Module subclasses require you to overRove forward computation"
   ]
  },
  {
   "cell_type": "markdown",
   "metadata": {},
   "source": []
  }
 ],
 "metadata": {
  "kernelspec": {
   "display_name": "dlEnv",
   "language": "python",
   "name": "python3"
  },
  "language_info": {
   "codemirror_mode": {
    "name": "ipython",
    "version": 3
   },
   "file_extension": ".py",
   "mimetype": "text/x-python",
   "name": "python",
   "nbconvert_exporter": "python",
   "pygments_lexer": "ipython3",
   "version": "3.9.10 (tags/v3.9.10:f2f3f53, Jan 17 2022, 15:14:21) [MSC v.1929 64 bit (AMD64)]"
  },
  "orig_nbformat": 4,
  "vscode": {
   "interpreter": {
    "hash": "a173155719f607268c22366331a6ee562a491758de99da6b186ae48fcfaefae3"
   }
  }
 },
 "nbformat": 4,
 "nbformat_minor": 2
}
